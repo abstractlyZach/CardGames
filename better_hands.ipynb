{
 "cells": [
  {
   "cell_type": "code",
   "execution_count": 1,
   "metadata": {},
   "outputs": [],
   "source": [
    "import itertools"
   ]
  },
  {
   "cell_type": "code",
   "execution_count": 2,
   "metadata": {},
   "outputs": [],
   "source": [
    "from cards.deck import StandardPlayingCardDeck\n",
    "from cards.cards import StandardPlayingCard\n",
    "from cards import suits\n",
    "from cards import ranks\n",
    "deck = StandardPlayingCardDeck()\n",
    "deck.shuffle()"
   ]
  },
  {
   "cell_type": "code",
   "execution_count": 3,
   "metadata": {},
   "outputs": [],
   "source": [
    "hand = [StandardPlayingCard(ranks.QUEEN, suit) for suit in suits.get_black_suits() + [suits.DIAMOND]]\n",
    "hand += [StandardPlayingCard(ranks.TWO, suit) for suit in suits.get_red_suits()]\n",
    "for card in hand:\n",
    "    deck.remove(card)"
   ]
  },
  {
   "cell_type": "code",
   "execution_count": 4,
   "metadata": {},
   "outputs": [],
   "source": [
    "from cards.poker_hands import classify\n",
    "poker_hand = classify(hand)"
   ]
  },
  {
   "cell_type": "code",
   "execution_count": 5,
   "metadata": {},
   "outputs": [
    {
     "data": {
      "text/plain": [
       "FullHouse:\n",
       "    Q of Spades\n",
       "    Q of Clovers\n",
       "    Q of Diamonds\n",
       "    2 of Hearts\n",
       "    2 of Diamonds"
      ]
     },
     "execution_count": 5,
     "metadata": {},
     "output_type": "execute_result"
    }
   ],
   "source": [
    "poker_hand"
   ]
  },
  {
   "cell_type": "code",
   "execution_count": 6,
   "metadata": {},
   "outputs": [],
   "source": [
    "better_hands = []\n",
    "for hand in itertools.combinations(deck, 5):\n",
    "    other_poker_hand = classify(hand)\n",
    "    if other_poker_hand > poker_hand:\n",
    "        better_hands.append(other_poker_hand)"
   ]
  },
  {
   "cell_type": "code",
   "execution_count": 7,
   "metadata": {},
   "outputs": [
    {
     "name": "stdout",
     "output_type": "stream",
     "text": [
      "FourOfAKind:\n",
      "    9 of Spades\n",
      "    7 of Hearts\n",
      "    7 of Spades\n",
      "    7 of Clovers\n",
      "    7 of Diamonds\n",
      "\n"
     ]
    }
   ],
   "source": [
    "print(better_hands[0])"
   ]
  },
  {
   "cell_type": "code",
   "execution_count": 8,
   "metadata": {},
   "outputs": [
    {
     "name": "stdout",
     "output_type": "stream",
     "text": [
      "[FourOfAKind:\n",
      "    9 of Spades\n",
      "    7 of Hearts\n",
      "    7 of Spades\n",
      "    7 of Clovers\n",
      "    7 of Diamonds\n",
      ", FourOfAKind:\n",
      "    9 of Spades\n",
      "    7 of Hearts\n",
      "    9 of Diamonds\n",
      "    9 of Clovers\n",
      "    9 of Hearts\n",
      ", FourOfAKind:\n",
      "    9 of Spades\n",
      "    K of Clovers\n",
      "    K of Diamonds\n",
      "    K of Spades\n",
      "    K of Hearts\n",
      ", FourOfAKind:\n",
      "    9 of Spades\n",
      "    K of Clovers\n",
      "    9 of Diamonds\n",
      "    9 of Clovers\n",
      "    9 of Hearts\n",
      "]\n"
     ]
    }
   ],
   "source": [
    "print(better_hands[:4])"
   ]
  },
  {
   "cell_type": "code",
   "execution_count": 9,
   "metadata": {},
   "outputs": [
    {
     "data": {
      "text/plain": [
       "500"
      ]
     },
     "execution_count": 9,
     "metadata": {},
     "output_type": "execute_result"
    }
   ],
   "source": [
    "len(better_hands)"
   ]
  },
  {
   "cell_type": "code",
   "execution_count": 10,
   "metadata": {},
   "outputs": [
    {
     "data": {
      "text/plain": [
       "1533939"
      ]
     },
     "execution_count": 10,
     "metadata": {},
     "output_type": "execute_result"
    }
   ],
   "source": [
    "len(list(itertools.combinations(deck, 5)))"
   ]
  },
  {
   "cell_type": "code",
   "execution_count": 11,
   "metadata": {},
   "outputs": [
    {
     "data": {
      "text/plain": [
       "'0.033% hands are better'"
      ]
     },
     "execution_count": 11,
     "metadata": {},
     "output_type": "execute_result"
    }
   ],
   "source": [
    "'{:.3%} hands are better'.format(len(better_hands) / len(list(itertools.combinations(deck, 5))))"
   ]
  },
  {
   "cell_type": "code",
   "execution_count": null,
   "metadata": {},
   "outputs": [],
   "source": []
  },
  {
   "cell_type": "code",
   "execution_count": 12,
   "metadata": {},
   "outputs": [
    {
     "name": "stdout",
     "output_type": "stream",
     "text": [
      "[]\n"
     ]
    }
   ],
   "source": [
    "print(better_hands[999:1007])"
   ]
  },
  {
   "cell_type": "code",
   "execution_count": null,
   "metadata": {},
   "outputs": [],
   "source": []
  },
  {
   "cell_type": "code",
   "execution_count": 13,
   "metadata": {},
   "outputs": [
    {
     "name": "stdout",
     "output_type": "stream",
     "text": [
      "[]\n"
     ]
    }
   ],
   "source": [
    "print(better_hands[500:510])"
   ]
  },
  {
   "cell_type": "code",
   "execution_count": 14,
   "metadata": {},
   "outputs": [
    {
     "name": "stdout",
     "output_type": "stream",
     "text": [
      "[FourOfAKind:\n",
      "    8 of Clovers\n",
      "    8 of Diamonds\n",
      "    8 of Hearts\n",
      "    8 of Spades\n",
      "    6 of Diamonds\n",
      ", FourOfAKind:\n",
      "    8 of Clovers\n",
      "    8 of Diamonds\n",
      "    8 of Hearts\n",
      "    8 of Spades\n",
      "    5 of Spades\n",
      ", FourOfAKind:\n",
      "    8 of Clovers\n",
      "    8 of Diamonds\n",
      "    8 of Hearts\n",
      "    8 of Spades\n",
      "    J of Hearts\n",
      ", FourOfAKind:\n",
      "    8 of Clovers\n",
      "    8 of Diamonds\n",
      "    8 of Hearts\n",
      "    8 of Spades\n",
      "    7 of Diamonds\n",
      ", FourOfAKind:\n",
      "    8 of Clovers\n",
      "    8 of Diamonds\n",
      "    8 of Hearts\n",
      "    8 of Spades\n",
      "    K of Hearts\n",
      ", FourOfAKind:\n",
      "    8 of Clovers\n",
      "    8 of Diamonds\n",
      "    8 of Hearts\n",
      "    8 of Spades\n",
      "    1 of Hearts\n",
      ", FourOfAKind:\n",
      "    8 of Clovers\n",
      "    8 of Diamonds\n",
      "    8 of Hearts\n",
      "    8 of Spades\n",
      "    J of Diamonds\n",
      ", FourOfAKind:\n",
      "    8 of Clovers\n",
      "    8 of Diamonds\n",
      "    8 of Hearts\n",
      "    8 of Spades\n",
      "    A of Hearts\n",
      ", FourOfAKind:\n",
      "    8 of Clovers\n",
      "    8 of Diamonds\n",
      "    8 of Hearts\n",
      "    8 of Spades\n",
      "    6 of Spades\n",
      ", FourOfAKind:\n",
      "    8 of Clovers\n",
      "    8 of Diamonds\n",
      "    8 of Hearts\n",
      "    8 of Spades\n",
      "    1 of Clovers\n",
      "]\n"
     ]
    }
   ],
   "source": [
    "print(better_hands[-10:])"
   ]
  },
  {
   "cell_type": "code",
   "execution_count": null,
   "metadata": {},
   "outputs": [],
   "source": []
  }
 ],
 "metadata": {
  "kernelspec": {
   "display_name": "Python 3",
   "language": "python",
   "name": "python3"
  },
  "language_info": {
   "codemirror_mode": {
    "name": "ipython",
    "version": 3
   },
   "file_extension": ".py",
   "mimetype": "text/x-python",
   "name": "python",
   "nbconvert_exporter": "python",
   "pygments_lexer": "ipython3",
   "version": "3.5.2"
  }
 },
 "nbformat": 4,
 "nbformat_minor": 1
}
